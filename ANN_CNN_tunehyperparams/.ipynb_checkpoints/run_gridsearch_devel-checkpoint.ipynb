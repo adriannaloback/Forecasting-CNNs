{
 "cells": [
  {
   "cell_type": "code",
   "execution_count": 1,
   "metadata": {},
   "outputs": [
    {
     "name": "stderr",
     "output_type": "stream",
     "text": [
      "Using TensorFlow backend.\n"
     ]
    }
   ],
   "source": [
    "import os\n",
    "import json\n",
    "import numpy as np\n",
    "from core.data_processor_gs import DataLoader\n",
    "from core.model import create_model\n",
    "from sklearn.model_selection import GridSearchCV\n",
    "from keras.wrappers.scikit_learn import KerasRegressor\n",
    "import pdb"
   ]
  },
  {
   "cell_type": "code",
   "execution_count": 2,
   "metadata": {},
   "outputs": [],
   "source": [
    "configs = json.load(open('config.json', 'r'))"
   ]
  },
  {
   "cell_type": "code",
   "execution_count": 3,
   "metadata": {},
   "outputs": [],
   "source": [
    "# -- Data preparation:\n",
    "data = DataLoader(os.path.join('../data', configs['data']['filename']), \n",
    "                  configs['data']['columns'])\n",
    "\n",
    "# Load input (X) and target values (Y)\n",
    "X, Y = data.get_train_data(\n",
    "       seq_len=configs['data']['sequence_length'],\n",
    "       normalise=configs['data']['normalise'])"
   ]
  },
  {
   "cell_type": "code",
   "execution_count": 4,
   "metadata": {},
   "outputs": [],
   "source": [
    "# -- Implement grid search for hyperparam optimisation for CNN model:\n",
    "# Fix random seed for reproducibility\n",
    "seed = 3\n",
    "np.random.seed(seed)\n",
    "\n",
    "# Create model\n",
    "model = KerasRegressor(build_fn=create_model)"
   ]
  },
  {
   "cell_type": "code",
   "execution_count": 5,
   "metadata": {},
   "outputs": [],
   "source": [
    "# Define the grid search parameters\n",
    "filts        = [64, 128]\n",
    "k_size       = [2]\n",
    "pool_size    = [2]\n",
    "neurons      = [50, 100]\n",
    "optimizer    = ['SGD', 'Adam']\n",
    "activation   = ['relu']\n",
    "dropout_rate = [0.3]\n",
    "batch_size   = [5]\n",
    "epochs       = [1]"
   ]
  },
  {
   "cell_type": "code",
   "execution_count": 6,
   "metadata": {},
   "outputs": [],
   "source": [
    "param_grid   = dict(filts=filts, k_size=k_size, pool_size=pool_size,\n",
    "                    neurons=neurons, optimizer=optimizer, activation=activation,\n",
    "                    dropout_rate=dropout_rate, batch_size=batch_size, epochs=epochs)"
   ]
  },
  {
   "cell_type": "code",
   "execution_count": 7,
   "metadata": {},
   "outputs": [
    {
     "name": "stdout",
     "output_type": "stream",
     "text": [
      "Epoch 1/1\n",
      "255/255 [==============================] - 0s 1ms/step - loss: 5.6871e-05\n"
     ]
    }
   ],
   "source": [
    "# Implement grid search (use all cores on local machine)\n",
    "grid = GridSearchCV(estimator=model, param_grid=param_grid, n_jobs=-1)\n",
    "grid_result = grid.fit(X, Y)"
   ]
  },
  {
   "cell_type": "code",
   "execution_count": 8,
   "metadata": {},
   "outputs": [
    {
     "name": "stdout",
     "output_type": "stream",
     "text": [
      "Best: -0.000057 using {'activation': 'relu', 'batch_size': 5, 'dropout_rate': 0.3, 'epochs': 1, 'filts': 64, 'k_size': 2, 'neurons': 100, 'optimizer': 'Adam', 'pool_size': 2}\n",
      "-0.000066 (0.000019) with: {'activation': 'relu', 'batch_size': 5, 'dropout_rate': 0.3, 'epochs': 1, 'filts': 64, 'k_size': 2, 'neurons': 50, 'optimizer': 'SGD', 'pool_size': 2}\n",
      "-0.000059 (0.000026) with: {'activation': 'relu', 'batch_size': 5, 'dropout_rate': 0.3, 'epochs': 1, 'filts': 64, 'k_size': 2, 'neurons': 50, 'optimizer': 'Adam', 'pool_size': 2}\n",
      "-0.000065 (0.000026) with: {'activation': 'relu', 'batch_size': 5, 'dropout_rate': 0.3, 'epochs': 1, 'filts': 64, 'k_size': 2, 'neurons': 100, 'optimizer': 'SGD', 'pool_size': 2}\n",
      "-0.000057 (0.000012) with: {'activation': 'relu', 'batch_size': 5, 'dropout_rate': 0.3, 'epochs': 1, 'filts': 64, 'k_size': 2, 'neurons': 100, 'optimizer': 'Adam', 'pool_size': 2}\n",
      "-0.000073 (0.000036) with: {'activation': 'relu', 'batch_size': 5, 'dropout_rate': 0.3, 'epochs': 1, 'filts': 128, 'k_size': 2, 'neurons': 50, 'optimizer': 'SGD', 'pool_size': 2}\n",
      "-0.000067 (0.000020) with: {'activation': 'relu', 'batch_size': 5, 'dropout_rate': 0.3, 'epochs': 1, 'filts': 128, 'k_size': 2, 'neurons': 50, 'optimizer': 'Adam', 'pool_size': 2}\n",
      "-0.000071 (0.000023) with: {'activation': 'relu', 'batch_size': 5, 'dropout_rate': 0.3, 'epochs': 1, 'filts': 128, 'k_size': 2, 'neurons': 100, 'optimizer': 'SGD', 'pool_size': 2}\n",
      "-0.000082 (0.000046) with: {'activation': 'relu', 'batch_size': 5, 'dropout_rate': 0.3, 'epochs': 1, 'filts': 128, 'k_size': 2, 'neurons': 100, 'optimizer': 'Adam', 'pool_size': 2}\n"
     ]
    }
   ],
   "source": [
    "# Summarise results\n",
    "print(\"Best: %f using %s\" % (grid_result.best_score_, grid_result.best_params_))\n",
    "means = grid_result.cv_results_['mean_test_score']\n",
    "stds = grid_result.cv_results_['std_test_score']\n",
    "params = grid_result.cv_results_['params']\n",
    "for mean, stdev, param in zip(means, stds, params):\n",
    "    print(\"%f (%f) with: %r\" % (mean, stdev, param))"
   ]
  }
 ],
 "metadata": {
  "kernelspec": {
   "display_name": "Python 3",
   "language": "python",
   "name": "python3"
  },
  "language_info": {
   "codemirror_mode": {
    "name": "ipython",
    "version": 3
   },
   "file_extension": ".py",
   "mimetype": "text/x-python",
   "name": "python",
   "nbconvert_exporter": "python",
   "pygments_lexer": "ipython3",
   "version": "3.6.7"
  }
 },
 "nbformat": 4,
 "nbformat_minor": 2
}
